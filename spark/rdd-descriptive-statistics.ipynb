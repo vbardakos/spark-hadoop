{
 "cells": [
  {
   "cell_type": "markdown",
   "metadata": {},
   "source": [
    "# Descriptive Statistics Classes\n",
    "The purpose of this notebook is to show how to compute simple descriptive statistics using Spark rdd environment.  \n",
    "While Spark provides useful tools - such as DenseVector - which can replace np.arrays in parallel computations, we don't use them for the sake of demonstration.  \n",
    "\n",
    "Finally, this notebook is designed to run under *IBM Watson Studio*, thus the user needs to setup Spark first in order to run the Spark functions locally."
   ]
  },
  {
   "cell_type": "markdown",
   "metadata": {},
   "source": [
    "## Class Construction"
   ]
  },
  {
   "cell_type": "code",
   "execution_count": 1,
   "metadata": {},
   "outputs": [
    {
     "name": "stdout",
     "output_type": "stream",
     "text": [
      "Waiting for a Spark session to start...\n",
      "Spark Initialization Done! ApplicationId = app-20200114151653-0000\n",
      "KERNEL_ID = 7c8e4fc0-0f6b-4c32-a9f4-e5d513b395f8\n"
     ]
    }
   ],
   "source": [
    "import numpy as np        # to work with arrays\n",
    "from random import sample # to get random samples to test\n",
    "import pandas as pd       # transform output to DataFrame\n",
    "from pyspark.mllib.stat import Statistics # correlogram"
   ]
  },
  {
   "cell_type": "markdown",
   "metadata": {},
   "source": [
    "#### RDD Sample\n",
    "We create a sample of RDDs to test the classes after."
   ]
  },
  {
   "cell_type": "code",
   "execution_count": 2,
   "metadata": {},
   "outputs": [],
   "source": [
    "rddA = sc.parallelize(range(100))\n",
    "rddB = sc.parallelize(range(100,200))\n",
    "rddC = sc.parallelize((pow(i,2) for i in range(100)))\n",
    "rddD = sc.parallelize(sample(range(100),100))"
   ]
  },
  {
   "cell_type": "markdown",
   "metadata": {},
   "source": [
    "#### Utilities Class\n",
    "    Methods\n",
    "> multizip  \n",
    "> _flatten\n",
    "\n",
    "Utilities method `multizip` zips *N* RDDs and converts them to np.arrays to parallelise the calculations. Although, zipping multiple arrays initially result in a list of tuples (*i.e. `[(a,b),c),d)]`*).  \n",
    "As a result of this, `_flatten` method steps in to flatten the list of tuples and then convert it to a np.array."
   ]
  },
  {
   "cell_type": "code",
   "execution_count": 3,
   "metadata": {},
   "outputs": [],
   "source": [
    "class Utilities(object):\n",
    "    \n",
    "    @classmethod\n",
    "    def multizip(cls,*args):\n",
    "        try:\n",
    "            rdd = args[0]\n",
    "            if len(args) > 1:\n",
    "                for arg in args[1:]:\n",
    "                    rdd = rdd.zip(arg)\n",
    "                rdd = rdd.map(lambda val : cls._flatten(val))\n",
    "            return rdd\n",
    "        except:\n",
    "            raise Exception(\"Invalid Parameters\")\n",
    "            \n",
    "    @staticmethod\n",
    "    def _flatten(l):\n",
    "        ltype = type(l)\n",
    "        l = list(l)\n",
    "        i = 0\n",
    "        while i < len(l):\n",
    "            while isinstance(l[i],ltype):\n",
    "                if not l[i]:\n",
    "                    l.pop(i)\n",
    "                    i -= 1\n",
    "                    break\n",
    "                else:\n",
    "                    l[i:i+1] = l[i]\n",
    "            i += 1\n",
    "        return np.array(l)"
   ]
  },
  {
   "cell_type": "markdown",
   "metadata": {},
   "source": [
    "#### Descriptive Class\n",
    "    Methods\n",
    "> mean  \n",
    "> st_deviation  \n",
    "> skewness  \n",
    "> kurtosis  \n",
    "> correlation  \n",
    "> covariance  \n",
    "> summary\n",
    "\n",
    "`multizip` method has a crucial role in parallelising and save resources, since the calculations occur in all RDDs simultaneously and not per RDD. Furthermore, we achieve to get more coprehensive and short code, which makes debugging process much easier and fast. Finally, `*args,**kwargs` allows for later result presentation and provides flexiibility upon the amount of RDDs.  \n",
    "However, the benefits of multizipping cannot apply in the calculation of medians at first glance, because the middle values needs to be calculated per RDD and np.median gives an error."
   ]
  },
  {
   "cell_type": "code",
   "execution_count": 4,
   "metadata": {},
   "outputs": [],
   "source": [
    "class Descriptive(object):\n",
    "    \n",
    "    @classmethod\n",
    "    def __init__(cls,*args,**kwargs):\n",
    "        for arg in args:\n",
    "            kwargs[str(arg)] = arg\n",
    "        if len(kwargs) > 1:\n",
    "            my_rdds = tuple([*kwargs.values()])\n",
    "            cls.rdd = Utilities.
    (*my_rdds)\n",
    "            cls.nam = tuple([*kwargs.keys()])\n",
    "        else:\n",
    "            cls.rdd = kwargs[str(*kwargs.keys())]\n",
    "            cls.nam = [*kwargs]\n",
    "        cls.nam = [name.split(maxsplit=1)[0] for name in cls.nam]\n",
    "        cls.obs = cls.rdd.count()\n",
    "\n",
    "    @classmethod\n",
    "    def mean(cls,*args,**kwargs):\n",
    "        if args or kwargs:\n",
    "            cls.__init__(*args,**kwargs)\n",
    "        return cls.rdd.sum()/cls.obs\n",
    "    \n",
    "    @classmethod\n",
    "    def sd(cls,*args,**kwargs):\n",
    "        if args or kwargs:\n",
    "            cls.__init__(*args,**kwargs)\n",
    "        Sum = cls._summation(cls,2)\n",
    "        return np.sqrt(Sum/cls.obs)\n",
    "    \n",
    "    @classmethod\n",
    "    def skewness(cls,*args,**kwargs):\n",
    "        if args or kwargs:\n",
    "            cls.__init__(*args,**kwargs)\n",
    "        return cls._calculations(cls,3)\n",
    "    \n",
    "    @classmethod\n",
    "    def kurtosis(cls,*args,**kwargs):\n",
    "        if args or kwargs:\n",
    "            cls.__init__(*args,**kwargs)\n",
    "        return cls._calculations(cls,4)\n",
    "    \n",
    "    @classmethod\n",
    "    def correlation(cls,*args,**kwargs):\n",
    "        if args or kwargs:\n",
    "            cls.__init__(*args,**kwargs)\n",
    "        return Statistics.corr(cls.rdd)\n",
    "    \n",
    "    @classmethod\n",
    "    def covariance(cls,*args,**kwargs):\n",
    "        if args or kwargs:\n",
    "            cls.__init__(*args,**kwargs)\n",
    "        corr = cls.correlation(*args,**kwargs)\n",
    "        stdv = cls.sd(*args,**kwargs)\n",
    "        stdv = [[a*b for a in stdv] for b in stdv]\n",
    "        return np.multiply(corr,stdv)\n",
    "\n",
    "    def _summation(cls,exp):\n",
    "        # generic sum for sd, skewness, kurtosis\n",
    "        Mean = cls.mean()\n",
    "        Sum  = cls.rdd.map(lambda val : np.power(val-Mean,exp)).sum()\n",
    "        return Sum\n",
    "    \n",
    "    def _calculations(cls,exp):\n",
    "        # calculates skewness & kurtosis\n",
    "        Sum = cls._summation(cls,exp)\n",
    "        sd  = cls.sd()\n",
    "        return (Sum/np.power(sd,exp))/cls.obs\n",
    "    \n",
    "    def summary(cls,*args,**kwargs):\n",
    "        if args or kwargs:\n",
    "            cls.__init__(*args,**kwargs)\n",
    "        Dict = {'name'     : cls.nam,\n",
    "                'mean'     : cls.mean(),\n",
    "                'st_dev'   : cls.sd(),\n",
    "                'skewness' : cls.skewness(),\n",
    "                'kurtosis' : cls.kurtosis()\n",
    "                }\n",
    "        return Dict"
   ]
  },
  {
   "cell_type": "markdown",
   "metadata": {},
   "source": [
    "## Class Testing\n",
    "We use the RDDs defined above to test and present the classes created."
   ]
  },
  {
   "cell_type": "markdown",
   "metadata": {},
   "source": [
    "#### Multizip Presentation"
   ]
  },
  {
   "cell_type": "code",
   "execution_count": 5,
   "metadata": {},
   "outputs": [
    {
     "name": "stdout",
     "output_type": "stream",
     "text": [
      "[0, 1, 2]\n",
      "[100, 101, 102]\n",
      "[0, 1, 4]\n",
      "[73, 85, 95]\n",
      "[array([  0, 100,   0,  73]), array([  1, 101,   1,  85]), array([  2, 102,   4,  95])]\n"
     ]
    }
   ],
   "source": [
    "zipped = Utilities.multizip(rddA,rddB,rddC,rddD)\n",
    "print(f\"{rddA.take(3)} {rddB.take(3)} {rddC.take(3)} {rddD.take(3)} {zipped.take(3)}\",sep='\\n')"
   ]
  },
  {
   "cell_type": "markdown",
   "metadata": {},
   "source": [
    "#### Descriptive Presentation with Pandas"
   ]
  },
  {
   "cell_type": "code",
   "execution_count": 10,
   "metadata": {},
   "outputs": [],
   "source": [
    "desc = Descriptive(rddA,rddB,rddC,rddD)\n",
    "\n",
    "name = desc.nam\n",
    "summ = desc.summary()\n",
    "corr = desc.correlation()\n",
    "covv = desc.covariance()"
   ]
  },
  {
   "cell_type": "code",
   "execution_count": 11,
   "metadata": {},
   "outputs": [],
   "source": [
    "from IPython.display import Markdown,display\n",
    "\n",
    "def printmd(string,df):\n",
    "    return display(Markdown(string),df)\n",
    "\n",
    "summ = pd.DataFrame(summ).style.hide_index()\n",
    "corr = pd.DataFrame(corr,index=name,columns=name)\n",
    "covv = pd.DataFrame(corr,index=name,columns=name)\n",
    "title = ('Summary', 'Correlation', 'Covariance')"
   ]
  },
  {
   "cell_type": "code",
   "execution_count": 12,
   "metadata": {},
   "outputs": [
    {
     "data": {
      "text/markdown": [
       "#### Summary of `['PythonRDD[18]', 'PythonRDD[19]', 'ParallelCollectionRDD[2]', 'ParallelCollectionRDD[3]']`"
      ],
      "text/plain": [
       "<IPython.core.display.Markdown object>"
      ]
     },
     "metadata": {},
     "output_type": "display_data"
    },
    {
     "data": {
      "text/html": [
       "<style  type=\"text/css\" >\n",
       "</style><table id=\"T_510fd804_36e1_11ea_b749_0dda030b89f6\" ><thead>    <tr>        <th class=\"col_heading level0 col0\" >name</th>        <th class=\"col_heading level0 col1\" >mean</th>        <th class=\"col_heading level0 col2\" >st_dev</th>        <th class=\"col_heading level0 col3\" >skewness</th>        <th class=\"col_heading level0 col4\" >kurtosis</th>    </tr></thead><tbody>\n",
       "                <tr>\n",
       "                                <td id=\"T_510fd804_36e1_11ea_b749_0dda030b89f6row0_col0\" class=\"data row0 col0\" >PythonRDD[18]</td>\n",
       "                        <td id=\"T_510fd804_36e1_11ea_b749_0dda030b89f6row0_col1\" class=\"data row0 col1\" >49.5</td>\n",
       "                        <td id=\"T_510fd804_36e1_11ea_b749_0dda030b89f6row0_col2\" class=\"data row0 col2\" >28.8661</td>\n",
       "                        <td id=\"T_510fd804_36e1_11ea_b749_0dda030b89f6row0_col3\" class=\"data row0 col3\" >0</td>\n",
       "                        <td id=\"T_510fd804_36e1_11ea_b749_0dda030b89f6row0_col4\" class=\"data row0 col4\" >1.79976</td>\n",
       "            </tr>\n",
       "            <tr>\n",
       "                                <td id=\"T_510fd804_36e1_11ea_b749_0dda030b89f6row1_col0\" class=\"data row1 col0\" >PythonRDD[19]</td>\n",
       "                        <td id=\"T_510fd804_36e1_11ea_b749_0dda030b89f6row1_col1\" class=\"data row1 col1\" >149.5</td>\n",
       "                        <td id=\"T_510fd804_36e1_11ea_b749_0dda030b89f6row1_col2\" class=\"data row1 col2\" >28.8661</td>\n",
       "                        <td id=\"T_510fd804_36e1_11ea_b749_0dda030b89f6row1_col3\" class=\"data row1 col3\" >0</td>\n",
       "                        <td id=\"T_510fd804_36e1_11ea_b749_0dda030b89f6row1_col4\" class=\"data row1 col4\" >1.79976</td>\n",
       "            </tr>\n",
       "            <tr>\n",
       "                                <td id=\"T_510fd804_36e1_11ea_b749_0dda030b89f6row2_col0\" class=\"data row2 col0\" >ParallelCollectionRDD[2]</td>\n",
       "                        <td id=\"T_510fd804_36e1_11ea_b749_0dda030b89f6row2_col1\" class=\"data row2 col1\" >3283.5</td>\n",
       "                        <td id=\"T_510fd804_36e1_11ea_b749_0dda030b89f6row2_col2\" class=\"data row2 col2\" >2953.3</td>\n",
       "                        <td id=\"T_510fd804_36e1_11ea_b749_0dda030b89f6row2_col3\" class=\"data row2 col3\" >0.64409</td>\n",
       "                        <td id=\"T_510fd804_36e1_11ea_b749_0dda030b89f6row2_col4\" class=\"data row2 col4\" >2.14831</td>\n",
       "            </tr>\n",
       "            <tr>\n",
       "                                <td id=\"T_510fd804_36e1_11ea_b749_0dda030b89f6row3_col0\" class=\"data row3 col0\" >ParallelCollectionRDD[3]</td>\n",
       "                        <td id=\"T_510fd804_36e1_11ea_b749_0dda030b89f6row3_col1\" class=\"data row3 col1\" >49.5</td>\n",
       "                        <td id=\"T_510fd804_36e1_11ea_b749_0dda030b89f6row3_col2\" class=\"data row3 col2\" >28.8661</td>\n",
       "                        <td id=\"T_510fd804_36e1_11ea_b749_0dda030b89f6row3_col3\" class=\"data row3 col3\" >0</td>\n",
       "                        <td id=\"T_510fd804_36e1_11ea_b749_0dda030b89f6row3_col4\" class=\"data row3 col4\" >1.79976</td>\n",
       "            </tr>\n",
       "    </tbody></table>"
      ],
      "text/plain": [
       "<pandas.io.formats.style.Styler at 0x7fd416e148d0>"
      ]
     },
     "metadata": {},
     "output_type": "display_data"
    },
    {
     "data": {
      "text/markdown": [
       "#### Correlation of `['PythonRDD[18]', 'PythonRDD[19]', 'ParallelCollectionRDD[2]', 'ParallelCollectionRDD[3]']`"
      ],
      "text/plain": [
       "<IPython.core.display.Markdown object>"
      ]
     },
     "metadata": {},
     "output_type": "display_data"
    },
    {
     "data": {
      "text/html": [
       "<div>\n",
       "<style scoped>\n",
       "    .dataframe tbody tr th:only-of-type {\n",
       "        vertical-align: middle;\n",
       "    }\n",
       "\n",
       "    .dataframe tbody tr th {\n",
       "        vertical-align: top;\n",
       "    }\n",
       "\n",
       "    .dataframe thead th {\n",
       "        text-align: right;\n",
       "    }\n",
       "</style>\n",
       "<table border=\"1\" class=\"dataframe\">\n",
       "  <thead>\n",
       "    <tr style=\"text-align: right;\">\n",
       "      <th></th>\n",
       "      <th>PythonRDD[18]</th>\n",
       "      <th>PythonRDD[19]</th>\n",
       "      <th>ParallelCollectionRDD[2]</th>\n",
       "      <th>ParallelCollectionRDD[3]</th>\n",
       "    </tr>\n",
       "  </thead>\n",
       "  <tbody>\n",
       "    <tr>\n",
       "      <th>PythonRDD[18]</th>\n",
       "      <td>1.000000</td>\n",
       "      <td>1.000000</td>\n",
       "      <td>0.967644</td>\n",
       "      <td>-0.100678</td>\n",
       "    </tr>\n",
       "    <tr>\n",
       "      <th>PythonRDD[19]</th>\n",
       "      <td>1.000000</td>\n",
       "      <td>1.000000</td>\n",
       "      <td>0.967644</td>\n",
       "      <td>-0.100678</td>\n",
       "    </tr>\n",
       "    <tr>\n",
       "      <th>ParallelCollectionRDD[2]</th>\n",
       "      <td>0.967644</td>\n",
       "      <td>0.967644</td>\n",
       "      <td>1.000000</td>\n",
       "      <td>-0.102608</td>\n",
       "    </tr>\n",
       "    <tr>\n",
       "      <th>ParallelCollectionRDD[3]</th>\n",
       "      <td>-0.100678</td>\n",
       "      <td>-0.100678</td>\n",
       "      <td>-0.102608</td>\n",
       "      <td>1.000000</td>\n",
       "    </tr>\n",
       "  </tbody>\n",
       "</table>\n",
       "</div>"
      ],
      "text/plain": [
       "                          PythonRDD[18]  PythonRDD[19]  \\\n",
       "PythonRDD[18]                  1.000000       1.000000   \n",
       "PythonRDD[19]                  1.000000       1.000000   \n",
       "ParallelCollectionRDD[2]       0.967644       0.967644   \n",
       "ParallelCollectionRDD[3]      -0.100678      -0.100678   \n",
       "\n",
       "                          ParallelCollectionRDD[2]  ParallelCollectionRDD[3]  \n",
       "PythonRDD[18]                             0.967644                 -0.100678  \n",
       "PythonRDD[19]                             0.967644                 -0.100678  \n",
       "ParallelCollectionRDD[2]                  1.000000                 -0.102608  \n",
       "ParallelCollectionRDD[3]                 -0.102608                  1.000000  "
      ]
     },
     "metadata": {},
     "output_type": "display_data"
    },
    {
     "data": {
      "text/markdown": [
       "#### Covariance of `['PythonRDD[18]', 'PythonRDD[19]', 'ParallelCollectionRDD[2]', 'ParallelCollectionRDD[3]']`"
      ],
      "text/plain": [
       "<IPython.core.display.Markdown object>"
      ]
     },
     "metadata": {},
     "output_type": "display_data"
    },
    {
     "data": {
      "text/html": [
       "<div>\n",
       "<style scoped>\n",
       "    .dataframe tbody tr th:only-of-type {\n",
       "        vertical-align: middle;\n",
       "    }\n",
       "\n",
       "    .dataframe tbody tr th {\n",
       "        vertical-align: top;\n",
       "    }\n",
       "\n",
       "    .dataframe thead th {\n",
       "        text-align: right;\n",
       "    }\n",
       "</style>\n",
       "<table border=\"1\" class=\"dataframe\">\n",
       "  <thead>\n",
       "    <tr style=\"text-align: right;\">\n",
       "      <th></th>\n",
       "      <th>PythonRDD[18]</th>\n",
       "      <th>PythonRDD[19]</th>\n",
       "      <th>ParallelCollectionRDD[2]</th>\n",
       "      <th>ParallelCollectionRDD[3]</th>\n",
       "    </tr>\n",
       "  </thead>\n",
       "  <tbody>\n",
       "    <tr>\n",
       "      <th>PythonRDD[18]</th>\n",
       "      <td>1.000000</td>\n",
       "      <td>1.000000</td>\n",
       "      <td>0.967644</td>\n",
       "      <td>-0.100678</td>\n",
       "    </tr>\n",
       "    <tr>\n",
       "      <th>PythonRDD[19]</th>\n",
       "      <td>1.000000</td>\n",
       "      <td>1.000000</td>\n",
       "      <td>0.967644</td>\n",
       "      <td>-0.100678</td>\n",
       "    </tr>\n",
       "    <tr>\n",
       "      <th>ParallelCollectionRDD[2]</th>\n",
       "      <td>0.967644</td>\n",
       "      <td>0.967644</td>\n",
       "      <td>1.000000</td>\n",
       "      <td>-0.102608</td>\n",
       "    </tr>\n",
       "    <tr>\n",
       "      <th>ParallelCollectionRDD[3]</th>\n",
       "      <td>-0.100678</td>\n",
       "      <td>-0.100678</td>\n",
       "      <td>-0.102608</td>\n",
       "      <td>1.000000</td>\n",
       "    </tr>\n",
       "  </tbody>\n",
       "</table>\n",
       "</div>"
      ],
      "text/plain": [
       "                          PythonRDD[18]  PythonRDD[19]  \\\n",
       "PythonRDD[18]                  1.000000       1.000000   \n",
       "PythonRDD[19]                  1.000000       1.000000   \n",
       "ParallelCollectionRDD[2]       0.967644       0.967644   \n",
       "ParallelCollectionRDD[3]      -0.100678      -0.100678   \n",
       "\n",
       "                          ParallelCollectionRDD[2]  ParallelCollectionRDD[3]  \n",
       "PythonRDD[18]                             0.967644                 -0.100678  \n",
       "PythonRDD[19]                             0.967644                 -0.100678  \n",
       "ParallelCollectionRDD[2]                  1.000000                 -0.102608  \n",
       "ParallelCollectionRDD[3]                 -0.102608                  1.000000  "
      ]
     },
     "metadata": {},
     "output_type": "display_data"
    }
   ],
   "source": [
    "for Str,df in zip(title,(summ,corr,covv)):\n",
    "    printmd(f\"#### {Str} of `{name}`\",df)"
   ]
  },
  {
   "cell_type": "markdown",
   "metadata": {},
   "source": [
    "---\n",
    "\n",
    "## TO DO\n",
    "**Median**: As explained above, the initial `median` method cannot be used to calculate medians in multple RDDs"
   ]
  },
  {
   "cell_type": "code",
   "execution_count": null,
   "metadata": {},
   "outputs": [],
   "source": [
    "# def median(self):\n",
    "#     n = rdd.count()\n",
    "#     sort = rdd.sortBy(lambda val : val)\n",
    "#     # create index to sorted vals in appr. format\n",
    "#     Dict = sort.zipWithIndex().map(lambda val : (val[1],val[0]))\n",
    "#     # odd or even total observations\n",
    "#     if n % 2:\n",
    "#         idx = (n-1)/2\n",
    "#         return Dict.lookup(idx)[0]\n",
    "#     else:\n",
    "#         idxA = n/2\n",
    "#         idxB = idxA-1\n",
    "#         valA = Dict.lookup(idxA)[0]\n",
    "#         valB = Dict.lookup(idxB)[0]\n",
    "#         return (valA+valB)/2"
   ]
  }
 ],
 "metadata": {
  "kernelspec": {
   "display_name": "Python 3.6 with Spark",
   "language": "python3",
   "name": "python36"
  },
  "language_info": {
   "codemirror_mode": {
    "name": "ipython",
    "version": 3
   },
   "file_extension": ".py",
   "mimetype": "text/x-python",
   "name": "python",
   "nbconvert_exporter": "python",
   "pygments_lexer": "ipython3",
   "version": "3.6.8"
  }
 },
 "nbformat": 4,
 "nbformat_minor": 1
}
